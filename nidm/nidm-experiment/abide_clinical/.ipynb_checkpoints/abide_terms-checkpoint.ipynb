{
 "cells": [
  {
   "cell_type": "code",
   "execution_count": 1,
   "metadata": {
    "collapsed": true
   },
   "outputs": [],
   "source": [
    "import os\n",
    "import rdflib as rdf"
   ]
  },
  {
   "cell_type": "code",
   "execution_count": 2,
   "metadata": {
    "collapsed": true
   },
   "outputs": [],
   "source": [
    "#create graph\n",
    "g = rdf.Graph()"
   ]
  },
  {
   "cell_type": "code",
   "execution_count": 3,
   "metadata": {
    "collapsed": true
   },
   "outputs": [],
   "source": [
    "#add namespaces\n",
    "nidm = rdf.Namespace(\"http://nidm.nidash.org/\")\n",
    "prov = rdf.Namespace(\"http://www.w3.org/ns/prov#\")\n",
    "ncit = rdf.Namespace(\"http://ncitt.ncit.nih.gov/\")\n",
    "nidash = rdf.Namespace(\"http://purl.org/nidash/nidm/\")\n",
    "abide = rdf.Namespace(\"http://fcon_1000.projects.nitrc.org/indi/abide/\")"
   ]
  },
  {
   "cell_type": "code",
   "execution_count": 4,
   "metadata": {
    "collapsed": false
   },
   "outputs": [],
   "source": [
    "g.bind('nidm', nidm)\n",
    "g.bind('prov', prov)\n",
    "g.bind('ncit', ncit)\n",
    "g.bind('nidash', nidash)\n",
    "g.bind('abide', abide)"
   ]
  },
  {
   "cell_type": "code",
   "execution_count": 5,
   "metadata": {
    "collapsed": false
   },
   "outputs": [],
   "source": [
    "#create entities for term definitions\n",
    "g.add((nidash[\"entity_FSIQ\"], rdf.RDF.type, prov[\"Entity\"]))\n",
    "g.add((nidash[\"entity_FSIQ\"], abide[\"term\"], rdf.Literal(\"ABIDE_FIQ\")))\n",
    "g.add((nidash[\"entity_FSIQ\"], prov[\"label\"], rdf.Literal(\"ABIDE vocabulary term\")))\n",
    "g.add((nidash[\"entity_FSIQ\"], prov[\"definition\"], rdf.Literal(\"FIQ Standard Score\")))\n",
    "g.add((nidash[\"entity_FSIQ\"], abide[\"form\"], rdf.Literal(\"WASI\")))"
   ]
  },
  {
   "cell_type": "code",
   "execution_count": 6,
   "metadata": {
    "collapsed": true
   },
   "outputs": [],
   "source": [
    "g.add((nidash[\"entity_PIQ\"], rdf.RDF.type, prov[\"Entity\"]))\n",
    "g.add((nidash[\"entity_PIQ\"], abide[\"term\"], rdf.Literal(\"ABIDE_PIQ\")))\n",
    "g.add((nidash[\"entity_PIQ\"], prov[\"label\"], rdf.Literal(\"ABIDE vocabulary term\")))\n",
    "g.add((nidash[\"entity_PIQ\"], prov[\"definition\"], rdf.Literal(\"PIQ Standard Score\")))\n",
    "g.add((nidash[\"entity_PIQ\"], abide[\"form\"], rdf.Literal(\"WASI\")))"
   ]
  },
  {
   "cell_type": "code",
   "execution_count": 7,
   "metadata": {
    "collapsed": true
   },
   "outputs": [],
   "source": [
    "g.add((nidash[\"entity_VIQ\"], rdf.RDF.type, prov[\"Entity\"]))\n",
    "g.add((nidash[\"entity_VIQ\"], abide[\"term\"], rdf.Literal(\"ABIDE_VIQ\")))\n",
    "g.add((nidash[\"entity_VIQ\"], prov[\"label\"], rdf.Literal(\"ABIDE vocabulary term\")))\n",
    "g.add((nidash[\"entity_VIQ\"], prov[\"definition\"], rdf.Literal(\"VIQ Standard Score\")))\n",
    "g.add((nidash[\"entity_VIQ\"], abide[\"form\"], rdf.Literal(\"WASI\")))"
   ]
  },
  {
   "cell_type": "code",
   "execution_count": 8,
   "metadata": {
    "collapsed": false
   },
   "outputs": [],
   "source": [
    "g.serialize(\"abide_terms.ttl\", format='turtle')"
   ]
  },
  {
   "cell_type": "code",
   "execution_count": null,
   "metadata": {
    "collapsed": true
   },
   "outputs": [],
   "source": []
  }
 ],
 "metadata": {
  "kernelspec": {
   "display_name": "Python 2",
   "language": "python",
   "name": "python2"
  },
  "language_info": {
   "codemirror_mode": {
    "name": "ipython",
    "version": 2
   },
   "file_extension": ".py",
   "mimetype": "text/x-python",
   "name": "python",
   "nbconvert_exporter": "python",
   "pygments_lexer": "ipython2",
   "version": "2.7.10"
  }
 },
 "nbformat": 4,
 "nbformat_minor": 0
}
