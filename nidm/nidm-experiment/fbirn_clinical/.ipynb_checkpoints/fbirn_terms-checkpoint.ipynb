{
 "cells": [
  {
   "cell_type": "code",
   "execution_count": 1,
   "metadata": {
    "collapsed": true
   },
   "outputs": [],
   "source": [
    "import os\n",
    "import rdflib as rdf"
   ]
  },
  {
   "cell_type": "code",
   "execution_count": 2,
   "metadata": {
    "collapsed": true
   },
   "outputs": [],
   "source": [
    "#create graph\n",
    "g = rdf.Graph()"
   ]
  },
  {
   "cell_type": "code",
   "execution_count": 3,
   "metadata": {
    "collapsed": true
   },
   "outputs": [],
   "source": [
    "#add namespaces\n",
    "nidm = rdf.Namespace(\"http://nidm.nidash.org/\")\n",
    "prov = rdf.Namespace(\"http://www.w3.org/ns/prov#\")\n",
    "ncit = rdf.Namespace(\"http://ncitt.ncit.nih.gov/\")\n",
    "nidash = rdf.Namespace(\"http://purl.org/nidash/nidm/\")\n",
    "fbirn = rdf.Namespace(\"http://www.birncommunity.org/collaborators/function-birn/\")"
   ]
  },
  {
   "cell_type": "code",
   "execution_count": 4,
   "metadata": {
    "collapsed": false
   },
   "outputs": [],
   "source": [
    "g.bind('nidm', nidm)\n",
    "g.bind('prov', prov)\n",
    "g.bind('ncit', ncit)\n",
    "g.bind('nidash', nidash)\n",
    "g.bind('fbirn', fbirn)"
   ]
  },
  {
   "cell_type": "code",
   "execution_count": 5,
   "metadata": {
    "collapsed": false
   },
   "outputs": [],
   "source": [
    "#create entities for term definitions\n",
    "g.add((nidash[\"entity_FSIQ\"], rdf.RDF.type, prov[\"Entity\"]))\n",
    "g.add((nidash[\"entity_FSIQ\"], fbirn[\"term\"], rdf.Literal(\"FSIQ\")))\n",
    "g.add((nidash[\"entity_FSIQ\"], prov[\"label\"], rdf.Literal(\"FBIRN vocabulary term\")))\n",
    "g.add((nidash[\"entity_FSIQ\"], prov[\"definition\"], rdf.Literal(\"Estimated Full Scale IQ = 127.8 - .78 * errors\")))\n",
    "g.add((nidash[\"entity_FSIQ\"], fbirn[\"form\"], rdf.Literal(\"North American Adult Reading Test (NAART)\")))"
   ]
  },
  {
   "cell_type": "code",
   "execution_count": 6,
   "metadata": {
    "collapsed": true
   },
   "outputs": [],
   "source": [
    "g.add((nidash[\"entity_PIQ\"], rdf.RDF.type, prov[\"Entity\"]))\n",
    "g.add((nidash[\"entity_PIQ\"], fbirn[\"term\"], rdf.Literal(\"PIQ\")))\n",
    "g.add((nidash[\"entity_PIQ\"], prov[\"label\"], rdf.Literal(\"FBIRN vocabulary term\")))\n",
    "g.add((nidash[\"entity_PIQ\"], prov[\"definition\"], rdf.Literal(\"Estimated Performance IQ = 119.4 - .42 * errors\")))\n",
    "g.add((nidash[\"entity_PIQ\"], fbirn[\"form\"], rdf.Literal(\"North American Adult Reading Test (NAART)\")))"
   ]
  },
  {
   "cell_type": "code",
   "execution_count": 7,
   "metadata": {
    "collapsed": true
   },
   "outputs": [],
   "source": [
    "g.add((nidash[\"entity_VIQ\"], rdf.RDF.type, prov[\"Entity\"]))\n",
    "g.add((nidash[\"entity_VIQ\"], fbirn[\"term\"], rdf.Literal(\"VIQ\")))\n",
    "g.add((nidash[\"entity_VIQ\"], prov[\"label\"], rdf.Literal(\"FBIRN vocabulary term\")))\n",
    "g.add((nidash[\"entity_VIQ\"], prov[\"definition\"], rdf.Literal(\"Estimated Verbal IQ = 128.7 - .89 * errors\")))\n",
    "g.add((nidash[\"entity_VIQ\"], fbirn[\"form\"], rdf.Literal(\"North American Adult Reading Test (NAART)\")))"
   ]
  },
  {
   "cell_type": "code",
   "execution_count": 8,
   "metadata": {
    "collapsed": false
   },
   "outputs": [
    {
     "name": "stdout",
     "output_type": "stream",
     "text": [
      "@prefix fbirn: <http://www.birncommunity.org/collaborators/function-birn/> .\n",
      "@prefix ncit: <http://ncitt.ncit.nih.gov/> .\n",
      "@prefix nidash: <http://purl.org/nidash/nidm/> .\n",
      "@prefix nidm: <http://nidm.nidash.org/> .\n",
      "@prefix prov: <http://www.w3.org/ns/prov#> .\n",
      "@prefix rdf: <http://www.w3.org/1999/02/22-rdf-syntax-ns#> .\n",
      "@prefix rdfs: <http://www.w3.org/2000/01/rdf-schema#> .\n",
      "@prefix xml: <http://www.w3.org/XML/1998/namespace> .\n",
      "@prefix xsd: <http://www.w3.org/2001/XMLSchema#> .\n",
      "\n",
      "nidash:entity_FSIQ a prov:Entity ;\n",
      "    fbirn:form \"North American Adult Reading Test (NAART)\" ;\n",
      "    fbirn:term \"FSIQ\" ;\n",
      "    prov:definition \"Estimated Full Scale IQ = 127.8 - .78 * errors\" ;\n",
      "    prov:label \"FBIRN vocabulary term\" .\n",
      "\n",
      "nidash:entity_PIQ a prov:Entity ;\n",
      "    fbirn:form \"North American Adult Reading Test (NAART)\" ;\n",
      "    fbirn:term \"PIQ\" ;\n",
      "    prov:definition \"Estimated Performance IQ = 119.4 - .42 * errors\" ;\n",
      "    prov:label \"FBIRN vocabulary term\" .\n",
      "\n",
      "nidash:entity_VIQ a prov:Entity ;\n",
      "    fbirn:form \"North American Adult Reading Test (NAART)\" ;\n",
      "    fbirn:term \"VIQ\" ;\n",
      "    prov:definition \"Estimated Verbal IQ = 128.7 - .89 * errors\" ;\n",
      "    prov:label \"FBIRN vocabulary term\" .\n",
      "\n",
      "\n"
     ]
    }
   ],
   "source": [
    "g.serialize(\"fbirn_terms.ttl\", format='turtle')"
   ]
  },
  {
   "cell_type": "code",
   "execution_count": null,
   "metadata": {
    "collapsed": true
   },
   "outputs": [],
   "source": []
  }
 ],
 "metadata": {
  "kernelspec": {
   "display_name": "Python 2",
   "language": "python",
   "name": "python2"
  },
  "language_info": {
   "codemirror_mode": {
    "name": "ipython",
    "version": 2
   },
   "file_extension": ".py",
   "mimetype": "text/x-python",
   "name": "python",
   "nbconvert_exporter": "python",
   "pygments_lexer": "ipython2",
   "version": "2.7.10"
  }
 },
 "nbformat": 4,
 "nbformat_minor": 0
}
